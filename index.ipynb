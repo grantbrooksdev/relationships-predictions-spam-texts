{
 "cells": [
  {
   "cell_type": "markdown",
   "id": "5ef6d4b5-8c55-49a9-b07d-213c0ba3873c",
   "metadata": {},
   "source": [
    "# **Relationships & Predictions in Spam Texts**"
   ]
  },
  {
   "cell_type": "markdown",
   "id": "194e8bd3-ea0d-4887-844f-3443d1f11b24",
   "metadata": {},
   "source": [
    "# Data & Problem"
   ]
  },
  {
   "cell_type": "markdown",
   "id": "118c05a0-4fdd-44b6-ac29-630fef09b6c4",
   "metadata": {},
   "source": [
    "The goal of my project is to discover relationships between words in spam texts and predict whether or not a text is spam. The data is a corpus of texts compiled from a spam complaint website in the UK and a set of legitimate texts from the National University of Singapore.\n",
    "\n",
    "Citation: Almeida,Tiago and Hidalgo,Jos. (2012). SMS Spam Collection. UCI Machine Learning Repository. https://doi.org/10.24432/C5CC84."
   ]
  },
  {
   "cell_type": "code",
   "execution_count": 24,
   "id": "29c2e44a-892d-475a-9e87-424355ad2d13",
   "metadata": {},
   "outputs": [],
   "source": [
    "import pandas as pd\n",
    "import matplotlib.pyplot as plt\n",
    "import seaborn as sns\n",
    "import numpy as np\n",
    "\n",
    "data = pd.read_csv('data/SMSSpamCollection.txt', sep='\\t', header=None, names=['spam_or_ham', 'text'])"
   ]
  },
  {
   "cell_type": "markdown",
   "id": "2f036056-e1c6-4b09-aadc-3d5f73dc0c4f",
   "metadata": {},
   "source": [
    "# Exploratory Data Analysis (EDA) - Inspect, Visualize, and Clean the Data"
   ]
  },
  {
   "cell_type": "markdown",
   "id": "45f1b7fb-5c24-45af-9672-3c48a6a3ea59",
   "metadata": {},
   "source": [
    "## About the data"
   ]
  },
  {
   "cell_type": "code",
   "execution_count": 25,
   "id": "3d90fac3-e508-4c5f-bc2b-25008d9794d5",
   "metadata": {},
   "outputs": [
    {
     "name": "stdout",
     "output_type": "stream",
     "text": [
      "  spam_or_ham                                               text\n",
      "0         ham  Go until jurong point, crazy.. Available only ...\n",
      "1         ham                      Ok lar... Joking wif u oni...\n",
      "2        spam  Free entry in 2 a wkly comp to win FA Cup fina...\n",
      "3         ham  U dun say so early hor... U c already then say...\n",
      "4         ham  Nah I don't think he goes to usf, he lives aro...\n"
     ]
    }
   ],
   "source": [
    "print(data.head())"
   ]
  },
  {
   "cell_type": "code",
   "execution_count": 26,
   "id": "84d12727-bb19-4be3-85ad-827d8982bccd",
   "metadata": {},
   "outputs": [
    {
     "name": "stdout",
     "output_type": "stream",
     "text": [
      "<class 'pandas.core.frame.DataFrame'>\n",
      "RangeIndex: 5572 entries, 0 to 5571\n",
      "Data columns (total 2 columns):\n",
      " #   Column       Non-Null Count  Dtype \n",
      "---  ------       --------------  ----- \n",
      " 0   spam_or_ham  5572 non-null   object\n",
      " 1   text         5572 non-null   object\n",
      "dtypes: object(2)\n",
      "memory usage: 87.2+ KB\n",
      "None\n"
     ]
    }
   ],
   "source": [
    "print(data.info())"
   ]
  },
  {
   "cell_type": "markdown",
   "id": "ffa6f579-517d-470d-901e-878e137823b2",
   "metadata": {},
   "source": [
    "We have **5572** entries with **text** values and a classification of **spam** or **ham**. There is an imbalance in the data that we will have to keep in mind throughout the project."
   ]
  },
  {
   "cell_type": "code",
   "execution_count": 27,
   "id": "4a5a54d6-1545-48ca-a8a5-61b321748237",
   "metadata": {
    "scrolled": true
   },
   "outputs": [
    {
     "name": "stdout",
     "output_type": "stream",
     "text": [
      "       spam_or_ham                    text\n",
      "count         5572                    5572\n",
      "unique           2                    5169\n",
      "top            ham  Sorry, I'll call later\n",
      "freq          4825                      30\n"
     ]
    }
   ],
   "source": [
    "print(data.describe())"
   ]
  },
  {
   "cell_type": "markdown",
   "id": "eb281eb8-81be-4f2b-bbd4-0210a9841baa",
   "metadata": {},
   "source": [
    "Next, let's look at what sorts of unique values we have in the data."
   ]
  },
  {
   "cell_type": "code",
   "execution_count": 28,
   "id": "b617ddf2-cf4a-4eea-9884-06a47f5cbd79",
   "metadata": {},
   "outputs": [
    {
     "name": "stdout",
     "output_type": "stream",
     "text": [
      "spam_or_ham:\n",
      "['ham' 'spam']\n",
      "text:\n",
      "['Go until jurong point, crazy.. Available only in bugis n great world la e buffet... Cine there got amore wat...'\n",
      " 'Ok lar... Joking wif u oni...'\n",
      " \"Free entry in 2 a wkly comp to win FA Cup final tkts 21st May 2005. Text FA to 87121 to receive entry question(std txt rate)T&C's apply 08452810075over18's\"\n",
      " ... 'Pity, * was in mood for that. So...any other suggestions?'\n",
      " \"The guy did some bitching but I acted like i'd be interested in buying something else next week and he gave it to us for free\"\n",
      " 'Rofl. Its true to its name']\n"
     ]
    }
   ],
   "source": [
    "for col in data.columns:\n",
    "    print(f'{col}:')\n",
    "    print(data[col].unique())"
   ]
  },
  {
   "cell_type": "markdown",
   "id": "40f497f5-687e-4f9b-ad33-c16da448750d",
   "metadata": {},
   "source": [
    "## Factors"
   ]
  },
  {
   "cell_type": "markdown",
   "id": "fc29804f-2118-4728-83cc-284e789ff5bc",
   "metadata": {},
   "source": [
    "| Component | Details |\n",
    "| --- | --- |\n",
    "| spam_or_ham | \"spam\" or \"ham\" indicating if the text is spam or not. I'll convert this into a boolean later. |\n",
    "| text | This is the content of the message. Within this are the words that we'll discover relationships between and use to make predictions. |"
   ]
  },
  {
   "cell_type": "code",
   "execution_count": 29,
   "id": "d253a09e-f3d5-44cd-891e-52cef070d73c",
   "metadata": {
    "scrolled": true
   },
   "outputs": [
    {
     "name": "stdout",
     "output_type": "stream",
     "text": [
      "to      2253\n",
      "you     2245\n",
      "the     1339\n",
      "and      980\n",
      "in       903\n",
      "is       897\n",
      "me       807\n",
      "my       766\n",
      "it       752\n",
      "for      711\n",
      "your     681\n",
      "of       623\n",
      "call     593\n",
      "that     586\n",
      "have     578\n",
      "on       538\n",
      "now      499\n",
      "are      495\n",
      "can      471\n",
      "so       462\n",
      "dtype: int64\n",
      "...\n",
      "heehee                 1\n",
      "helps                  1\n",
      "helping                1\n",
      "helpful                1\n",
      "help08714742804        1\n",
      "help08700621170150p    1\n",
      "hellogorgeous          1\n",
      "helens                 1\n",
      "hehe                   1\n",
      "hectic                 1\n",
      "healer                 1\n",
      "heavily                1\n",
      "heaven                 1\n",
      "heat                   1\n",
      "hearted                1\n",
      "hearing                1\n",
      "hearin                 1\n",
      "heap                   1\n",
      "healthy                1\n",
      "〨ud                    1\n",
      "dtype: int64\n"
     ]
    }
   ],
   "source": [
    "from sklearn.feature_extraction.text import CountVectorizer\n",
    "\n",
    "vectorizer = CountVectorizer()\n",
    "X = vectorizer.fit_transform(data['text'])\n",
    "word_freq_df = pd.DataFrame(X.toarray(), columns=vectorizer.get_feature_names_out())\n",
    "word_freq_total = word_freq_df.sum().sort_values(ascending=False)\n",
    "print(word_freq_total.head(20))\n",
    "print('...')\n",
    "print(word_freq_total.tail(20))"
   ]
  },
  {
   "cell_type": "markdown",
   "id": "011d1ee6-f7b3-49cd-af1b-047299b8342f",
   "metadata": {},
   "source": [
    "## Cleaning"
   ]
  },
  {
   "cell_type": "markdown",
   "id": "5469af82-e5ef-4cdc-8baf-7a9e21fa5c7a",
   "metadata": {},
   "source": [
    "First, I want to check for and remove missing values to ensure we are working with a complete set."
   ]
  },
  {
   "cell_type": "code",
   "execution_count": 30,
   "id": "47263513-637e-48c4-a7d6-0f67fc11c91e",
   "metadata": {
    "scrolled": true
   },
   "outputs": [
    {
     "name": "stdout",
     "output_type": "stream",
     "text": [
      "spam_or_ham    0\n",
      "text           0\n",
      "dtype: int64\n",
      "spam_or_ham    0\n",
      "text           0\n",
      "dtype: int64\n"
     ]
    }
   ],
   "source": [
    "print(data.isnull().sum())\n",
    "data = data.dropna()\n",
    "print(data.isnull().sum())\n"
   ]
  },
  {
   "cell_type": "markdown",
   "id": "80933cbd-8c34-461a-900d-5c8efc4c74f0",
   "metadata": {},
   "source": [
    "Let's convert the SpamOrHam column to a column called Spam that just indicates True or False for better interpretability in the models."
   ]
  },
  {
   "cell_type": "code",
   "execution_count": 31,
   "id": "a1f1432b-6257-43b0-bbe4-064a86647c4b",
   "metadata": {},
   "outputs": [],
   "source": [
    "data['spam'] = data['spam_or_ham'] == 'spam'\n",
    "data = data.drop(columns=['spam_or_ham'])"
   ]
  },
  {
   "cell_type": "code",
   "execution_count": 32,
   "id": "296ccd4c-45ba-4975-84c0-781040ec673d",
   "metadata": {},
   "outputs": [
    {
     "name": "stdout",
     "output_type": "stream",
     "text": [
      "                                                text   spam\n",
      "0  Go until jurong point, crazy.. Available only ...  False\n",
      "1                      Ok lar... Joking wif u oni...  False\n",
      "2  Free entry in 2 a wkly comp to win FA Cup fina...   True\n",
      "3  U dun say so early hor... U c already then say...  False\n",
      "4  Nah I don't think he goes to usf, he lives aro...  False\n"
     ]
    }
   ],
   "source": [
    "print(data.head())"
   ]
  },
  {
   "cell_type": "markdown",
   "id": "d93fbf12-7e8d-48db-be63-0d42d31d657f",
   "metadata": {},
   "source": [
    "## Correlation"
   ]
  },
  {
   "cell_type": "markdown",
   "id": "fd72df5d-6289-4274-8947-77dd670b496f",
   "metadata": {},
   "source": [
    "There is correlation present between the words in the texts, which can be seen when the unsupervised learning methods discover and present relationships between words -- this is in part due to correlation between the frequently used words."
   ]
  },
  {
   "cell_type": "code",
   "execution_count": 33,
   "id": "416bd34d-c682-4436-ae8c-c8ebc2b5f4a5",
   "metadata": {},
   "outputs": [
    {
     "data": {
      "image/png": "[encoded data removed]",
      "text/plain": [
       "<Figure size 1200x700 with 1 Axes>"
      ]
     },
     "metadata": {},
     "output_type": "display_data"
    }
   ],
   "source": [
    "word_freq_total.head(30).plot(kind='barh', figsize=(12, 7), color='skyblue')\n",
    "plt.title('30 Most Frequent Words')\n",
    "plt.xlabel('Frequency')\n",
    "plt.ylabel('Words')\n",
    "plt.gca().invert_yaxis()\n",
    "plt.show()"
   ]
  },
  {
   "cell_type": "markdown",
   "id": "c63e3994-e046-4752-9875-057d43728f54",
   "metadata": {},
   "source": [
    "## Transformation"
   ]
  },
  {
   "cell_type": "markdown",
   "id": "15fc9cad-3ded-476e-872b-f5569b0b6833",
   "metadata": {},
   "source": [
    "The data will need to be transformed in a few different ways for the various methods I will try. One common transformation I will need is preprocessing: removing stop words (because they lack meaning needed to define relationships), making the text lowercase, and removing punctuation and digits (leaving only text)."
   ]
  },
  {
   "cell_type": "code",
   "execution_count": 34,
   "id": "79688dd9-9c24-4a98-ac7c-9067d65356f8",
   "metadata": {},
   "outputs": [],
   "source": [
    "# text preprocessing\n",
    "\n",
    "import re\n",
    "from sklearn.feature_extraction.text import ENGLISH_STOP_WORDS\n",
    "\n",
    "def preprocess_text(text):\n",
    "    text = re.sub(r'\\W', ' ', text)\n",
    "    text = re.sub(r'\\d', ' ', text)\n",
    "    text = text.lower()\n",
    "    text = ' '.join([word for word in text.split() if word not in ENGLISH_STOP_WORDS])\n",
    "    return text\n",
    "\n",
    "data['text'] = data['text'].apply(preprocess_text)"
   ]
  },
  {
   "cell_type": "markdown",
   "id": "8f08e4a0-78fe-4c48-975a-4924940a3a6d",
   "metadata": {},
   "source": [
    "I will vectorize text to help reduce dimensionality as well as make it more consumable by the machine learning methods I'll implement."
   ]
  },
  {
   "cell_type": "code",
   "execution_count": 35,
   "id": "8b7cdc1b-9ab4-40e4-b150-3930204cef05",
   "metadata": {},
   "outputs": [],
   "source": [
    "# creating a vectorized version of data['text'] for repeated use\n",
    "from sklearn.feature_extraction.text import TfidfVectorizer\n",
    "\n",
    "vectorizer = TfidfVectorizer(stop_words='english')\n",
    "text_vectors = vectorizer.fit_transform(data['text'])"
   ]
  },
  {
   "cell_type": "markdown",
   "id": "4e303008-75f7-47c4-b2ce-3d0d02dd8888",
   "metadata": {},
   "source": [
    "Summary: In this previous section, I ensured that my data was ready for use in my models. I already started discovering interesting aspects of my data like the most frequently used words."
   ]
  },
  {
   "cell_type": "markdown",
   "id": "8287294e-7780-457c-9041-212c261b6fbc",
   "metadata": {},
   "source": [
    "# Models"
   ]
  },
  {
   "cell_type": "markdown",
   "id": "f074875d-3e71-44dc-b1f9-7531291d699a",
   "metadata": {},
   "source": [
    "## Unsupervised Learning: "
   ]
  },
  {
   "cell_type": "markdown",
   "id": "7d90ed61-f18e-4ddc-8d02-e6a961c3953f",
   "metadata": {},
   "source": [
    "### NMF"
   ]
  },
  {
   "cell_type": "markdown",
   "id": "6b257b06-4869-4f05-a6a8-036e331a46f3",
   "metadata": {},
   "source": [
    "Here I can find some of the topics and top words in those topics. A few topics in this list like index 3 and 8 seem highly likely to contain spam. "
   ]
  },
  {
   "cell_type": "code",
   "execution_count": 63,
   "id": "37eb11c2-a524-4a06-8dfa-0344a0a68b3b",
   "metadata": {},
   "outputs": [
    {
     "name": "stdout",
     "output_type": "stream",
     "text": [
      "0:\n",
      "ok thanx prob ur leave yup said ya\n",
      "1:\n",
      "ll later sorry meeting aight text yeah tonight\n",
      "2:\n",
      "gt lt min like decimal minutes rs got\n",
      "3:\n",
      "free ur text txt reply mobile nokia week\n",
      "4:\n",
      "come time tomorrow want oh got tell tonight\n",
      "5:\n",
      "good day know love just dear hope night\n",
      "6:\n",
      "lor wat wan dun time doing got thk\n",
      "7:\n",
      "home going way coming ur da reach dinner\n",
      "8:\n",
      "prize claim won guaranteed urgent contact valid cash\n",
      "9:\n",
      "send pls message pick right phone da number\n"
     ]
    }
   ],
   "source": [
    "from sklearn.decomposition import NMF\n",
    "\n",
    "\n",
    "nmf_model = NMF(n_components=10, random_state=40)\n",
    "W = nmf_model.fit_transform(text_vectors)\n",
    "H = nmf_model.components_\n",
    "\n",
    "\n",
    "feature_names = vectorizer.get_feature_names_out()\n",
    "\n",
    "def top_topic_words(H, feature_names, top_count):\n",
    "    for i, topic in enumerate(H):\n",
    "        print(f\"{i}:\")\n",
    "        print(\" \".join([feature_names[i] for i in topic.argsort()[:-top_count - 1:-1]]))\n",
    "\n",
    "top_topic_words(H, feature_names, 8)"
   ]
  },
  {
   "cell_type": "code",
   "execution_count": 64,
   "id": "ea57e254-d70b-486d-8afb-03787ccd4b91",
   "metadata": {},
   "outputs": [
    {
     "name": "stdout",
     "output_type": "stream",
     "text": [
      "Reconstruction Error: 72.14328496054976\n"
     ]
    }
   ],
   "source": [
    "print(f\"Reconstruction Error: {nmf_model.reconstruction_err_}\")"
   ]
  },
  {
   "cell_type": "code",
   "execution_count": 37,
   "id": "df7fffd6-828e-45ff-bf98-e1607284d69d",
   "metadata": {},
   "outputs": [
    {
     "name": "stdout",
     "output_type": "stream",
     "text": [
      "                                                   text   spam  topic\n",
      "0     jurong point crazy available bugis n great wor...  False      6\n",
      "1                               ok lar joking wif u oni  False      0\n",
      "2     free entry wkly comp win fa cup final tkts st ...   True      3\n",
      "3                           u dun say early hor u c say  False      6\n",
      "4                        nah don t think goes usf lives  False      5\n",
      "...                                                 ...    ...    ...\n",
      "5567  nd time tried contact u u won pound prize clai...   True      8\n",
      "5568                        ü b going esplanade fr home  False      7\n",
      "5569                              pity mood suggestions  False      5\n",
      "5570  guy did bitching acted like d interested buyin...  False      3\n",
      "5571                                          rofl true  False      3\n",
      "\n",
      "[5572 rows x 3 columns]\n"
     ]
    }
   ],
   "source": [
    "data_with_topic = data.copy()\n",
    "data_with_topic['topic'] = W.argmax(axis=1)\n",
    "print(data_with_topic)"
   ]
  },
  {
   "cell_type": "code",
   "execution_count": 68,
   "id": "047b2809-9d2a-458c-9c0a-6ce6f74afc7a",
   "metadata": {},
   "outputs": [
    {
     "name": "stderr",
     "output_type": "stream",
     "text": [
      "/opt/homebrew/Cellar/jupyterlab/4.1.6_1/libexec/lib/python3.12/site-packages/sklearn/decomposition/_nmf.py:1759: ConvergenceWarning: Maximum number of iterations 200 reached. Increase it to improve convergence.\n",
      "  warnings.warn(\n"
     ]
    },
    {
     "data": {
      "image/png": "[encoded data removed]",
      "text/plain": [
       "<Figure size 640x480 with 1 Axes>"
      ]
     },
     "metadata": {},
     "output_type": "display_data"
    }
   ],
   "source": [
    "recon_errors = []\n",
    "num_comp_range = range(2, 200, 10)\n",
    "\n",
    "for n in num_comp_range:\n",
    "    nmf_model = NMF(n_components=n, random_state=40)\n",
    "    W = nmf_model.fit_transform(text_vectors)\n",
    "    H = nmf_model.components_\n",
    "    recon_errors.append(nmf_model.reconstruction_err_)\n",
    "\n",
    "plt.plot(num_comp_range, recon_errors, marker='o')\n",
    "plt.title('Optimal num_comp_range')\n",
    "plt.xlabel('num_comp_range')\n",
    "plt.ylabel('recon_errors')\n",
    "plt.show()"
   ]
  },
  {
   "cell_type": "markdown",
   "id": "f640d303-6f12-4b38-a0a9-dbdcb7111dca",
   "metadata": {},
   "source": [
    "### Word Embedding and KMeans"
   ]
  },
  {
   "cell_type": "markdown",
   "id": "facb7d0b-f15a-4cbb-afaf-9627a43681bf",
   "metadata": {},
   "source": [
    "Next, I'll explore KMeans and implement word embeddings."
   ]
  },
  {
   "cell_type": "code",
   "execution_count": 38,
   "id": "546ed1f1-99e3-42ae-a786-863e912407ee",
   "metadata": {},
   "outputs": [
    {
     "name": "stderr",
     "output_type": "stream",
     "text": [
      "[nltk_data] Downloading package stopwords to /Users/grant/nltk_data...\n",
      "[nltk_data]   Package stopwords is already up-to-date!\n"
     ]
    }
   ],
   "source": [
    "import nltk\n",
    "from nltk.corpus import stopwords\n",
    "from gensim.utils import simple_preprocess\n",
    "from sklearn.cluster import KMeans\n",
    "from gensim.models import Word2Vec\n",
    "\n",
    "# transforming text into tokens for word embeddings\n",
    "nltk.download('stopwords')\n",
    "stop_words = stopwords.words('english')\n",
    "\n",
    "def tokenize(text):\n",
    "    tokens = simple_preprocess(text, deacc=True)\n",
    "    tokens = [word for word in tokens if word not in stop_words]\n",
    "    return tokens\n",
    "\n",
    "# making a copy for use in kmeans so I do not contaminate the original data\n",
    "kmeans_data = data.copy()\n",
    "kmeans_data['text'] = kmeans_data['text'].apply(tokenize)\n",
    "\n",
    "wordvector = Word2Vec(sentences=kmeans_data['text'], vector_size=100, window=5, min_count=1, workers=4, sg=0)\n",
    "\n"
   ]
  },
  {
   "cell_type": "code",
   "execution_count": 39,
   "id": "9fc4eb54-cf54-4cf9-ad80-07a78228d378",
   "metadata": {
    "scrolled": true
   },
   "outputs": [
    {
     "name": "stdout",
     "output_type": "stream",
     "text": [
      "[-0.06895319  0.15644959  0.02670699  0.00827242  0.02344137 -0.27977613\n",
      "  0.07541046  0.36618865 -0.1282766  -0.08574257 -0.09389766 -0.2964607\n",
      " -0.01384152  0.07414988  0.02600762 -0.14203876  0.04939359 -0.2478874\n",
      "  0.02908015 -0.35246703  0.14440703  0.07232866  0.07294117 -0.06004795\n",
      " -0.0495735  -0.02335776 -0.12769324 -0.10890828 -0.19904968 -0.01216016\n",
      "  0.2226332   0.07609785  0.06492973 -0.12146782 -0.08951806  0.20205829\n",
      " -0.00091277 -0.09843437 -0.09471009 -0.32645512  0.01965761 -0.16158678\n",
      " -0.06573282  0.00872378  0.10490158 -0.08986989 -0.16302007  0.0121245\n",
      "  0.09710385  0.09472079  0.0322605  -0.14596443 -0.05155375 -0.02398416\n",
      " -0.11356739  0.14680389  0.0928212  -0.06193853 -0.17254694  0.07646728\n",
      "  0.02110785  0.06185143 -0.04827413  0.04516925 -0.16200599  0.1495606\n",
      " -0.02340137  0.11424728 -0.22147515  0.20445438 -0.10974868  0.09784049\n",
      "  0.22033553 -0.07812329  0.18885884  0.10619929 -0.01418979 -0.0439624\n",
      " -0.1743503   0.04885028 -0.03663962 -0.04173398 -0.2028609   0.2721117\n",
      " -0.05275607 -0.03677765 -0.0065863   0.17456451  0.20927726  0.04123932\n",
      "  0.20003317  0.07109214  0.00843353  0.06079851  0.31909016  0.16851792\n",
      "  0.08048795 -0.17314109  0.07288817  0.01018231]\n"
     ]
    }
   ],
   "source": [
    "print(wordvector.wv['hi'])"
   ]
  },
  {
   "cell_type": "code",
   "execution_count": 40,
   "id": "b5d56597-193a-4c20-98a0-062cbd349e0f",
   "metadata": {},
   "outputs": [
    {
     "data": {
      "text/plain": [
       "[('good', 0.9991819858551025),\n",
       " ('time', 0.9991481304168701),\n",
       " ('like', 0.9991405606269836)]"
      ]
     },
     "execution_count": 40,
     "metadata": {},
     "output_type": "execute_result"
    }
   ],
   "source": [
    "wordvector.wv.most_similar('home', topn=3)"
   ]
  },
  {
   "cell_type": "code",
   "execution_count": 41,
   "id": "5b44c79e-43f0-43bd-bdd2-c8778368a3f3",
   "metadata": {},
   "outputs": [
    {
     "data": {
      "text/plain": [
       "[('claim', 0.9983595013618469),\n",
       " ('txt', 0.9982503056526184),\n",
       " ('contact', 0.9978494644165039)]"
      ]
     },
     "execution_count": 41,
     "metadata": {},
     "output_type": "execute_result"
    }
   ],
   "source": [
    "wordvector.wv.most_similar('prize', topn=3)"
   ]
  },
  {
   "cell_type": "code",
   "execution_count": 42,
   "id": "6ede72ba-f556-4e40-b516-63d0cb710ec6",
   "metadata": {},
   "outputs": [
    {
     "data": {
      "text/plain": [
       "[('txt', 0.9975656270980835),\n",
       " ('ur', 0.9975178241729736),\n",
       " ('free', 0.9974448680877686)]"
      ]
     },
     "execution_count": 42,
     "metadata": {},
     "output_type": "execute_result"
    }
   ],
   "source": [
    "wordvector.wv.most_similar('urgent', topn=3)\n"
   ]
  },
  {
   "cell_type": "code",
   "execution_count": 43,
   "id": "ff1c41fb-42a8-4d83-a7be-8b52e1764422",
   "metadata": {},
   "outputs": [
    {
     "data": {
      "text/plain": [
       "[('told', 0.9899023771286011),\n",
       " ('wat', 0.9898195862770081),\n",
       " ('message', 0.9895045161247253)]"
      ]
     },
     "execution_count": 43,
     "metadata": {},
     "output_type": "execute_result"
    }
   ],
   "source": [
    "wordvector.wv.most_similar('meeting', topn=3)\n"
   ]
  },
  {
   "cell_type": "code",
   "execution_count": 44,
   "id": "8be496e1-1b4a-4c98-88dd-6b1c43dc35b2",
   "metadata": {},
   "outputs": [],
   "source": [
    "def doc_vec(doc):\n",
    "    doc = [word for word in doc if word in wordvector.wv.index_to_key]\n",
    "    return np.mean(wordvector.wv[doc], axis=0) if doc else np.zeros(wordvector.vector_size)\n",
    "\n",
    "kmeans_data['doc_vector'] = kmeans_data['text'].apply(doc_vec)\n",
    "X = np.vstack(kmeans_data['doc_vector'].values)\n",
    "\n",
    "km = KMeans(n_clusters= 2, random_state=40)\n",
    "km.fit(X)\n",
    "\n",
    "kmeans_data['cluster'] = km.labels_"
   ]
  },
  {
   "cell_type": "markdown",
   "id": "ac1dd448-8658-4a13-be3a-b181feb67c54",
   "metadata": {},
   "source": [
    "Here, I can see the true classification of points in the two clusters."
   ]
  },
  {
   "cell_type": "code",
   "execution_count": 45,
   "id": "68ec2350-e4d3-45a3-9edb-e92714b8530d",
   "metadata": {},
   "outputs": [
    {
     "name": "stdout",
     "output_type": "stream",
     "text": [
      "cluster     0     1\n",
      "spam               \n",
      "False    2813  2012\n",
      "True      333   414\n"
     ]
    }
   ],
   "source": [
    "print(pd.crosstab(kmeans_data['spam'], kmeans_data['cluster']))"
   ]
  },
  {
   "cell_type": "code",
   "execution_count": 46,
   "id": "8c476e28-fd25-4007-817c-e1559431c918",
   "metadata": {},
   "outputs": [
    {
     "name": "stdout",
     "output_type": "stream",
     "text": [
      "Silhouette Score: 0.5358477311644246\n"
     ]
    }
   ],
   "source": [
    "from sklearn.metrics import silhouette_score\n",
    "\n",
    "print(f\"Silhouette Score: {silhouette_score(X, km.labels_)}\")"
   ]
  },
  {
   "cell_type": "markdown",
   "id": "0e0154a6-617a-435d-baeb-ef80c67a587c",
   "metadata": {},
   "source": [
    "We can see that the Silhouette needs improvement as it ranges [-1,1] with 1 being good clustering."
   ]
  },
  {
   "cell_type": "code",
   "execution_count": 47,
   "id": "a20bb7d4-17fc-4f6c-8ec3-61cee8b0d36b",
   "metadata": {},
   "outputs": [
    {
     "name": "stdout",
     "output_type": "stream",
     "text": [
      "Adjusted Rand Index: 0.016176573183229365\n"
     ]
    }
   ],
   "source": [
    "from sklearn.metrics import adjusted_rand_score\n",
    "\n",
    "print(f\"Adjusted Rand Index: {adjusted_rand_score(kmeans_data['spam'], km.labels_)}\")"
   ]
  },
  {
   "cell_type": "markdown",
   "id": "a49bcdcf-72d5-40f0-8266-dfb3269d2ac1",
   "metadata": {},
   "source": [
    "We can see that the ARI needs improvement as it ranges [-1,1] with 1 being good clustering."
   ]
  },
  {
   "cell_type": "code",
   "execution_count": 48,
   "id": "e7bc73bb-1dc5-4de1-b85a-53e9a1c2b618",
   "metadata": {},
   "outputs": [
    {
     "data": {
      "image/png": "[encoded data removed]",
      "text/plain": [
       "<Figure size 640x480 with 1 Axes>"
      ]
     },
     "metadata": {},
     "output_type": "display_data"
    }
   ],
   "source": [
    "from sklearn.decomposition import PCA\n",
    "import matplotlib.pyplot as plt\n",
    "\n",
    "pca = PCA(n_components=2)\n",
    "X_pca = pca.fit_transform(X)\n",
    "\n",
    "plt.scatter(X_pca[:, 0], X_pca[:, 1], c=km.labels_, cmap='viridis')\n",
    "plt.title(\"K-Means Clustering (visualized with PCA)\")\n",
    "plt.show()"
   ]
  },
  {
   "cell_type": "markdown",
   "id": "009f90c0-323b-4105-a434-1e16ec548ec0",
   "metadata": {},
   "source": [
    "**KMeans Hyperparameter tuning**"
   ]
  },
  {
   "cell_type": "code",
   "execution_count": 50,
   "id": "6a2c6b39-7211-40e1-b9e1-d707194311ee",
   "metadata": {},
   "outputs": [
    {
     "data": {
      "text/html": [
       "<style>#sk-container-id-1 {\n",
       "  /* Definition of color scheme common for light and dark mode */\n",
       "  --sklearn-color-text: black;\n",
       "  --sklearn-color-line: gray;\n",
       "  /* Definition of color scheme for unfitted estimators */\n",
       "  --sklearn-color-unfitted-level-0: #fff5e6;\n",
       "  --sklearn-color-unfitted-level-1: #f6e4d2;\n",
       "  --sklearn-color-unfitted-level-2: #ffe0b3;\n",
       "  --sklearn-color-unfitted-level-3: chocolate;\n",
       "  /* Definition of color scheme for fitted estimators */\n",
       "  --sklearn-color-fitted-level-0: #f0f8ff;\n",
       "  --sklearn-color-fitted-level-1: #d4ebff;\n",
       "  --sklearn-color-fitted-level-2: #b3dbfd;\n",
       "  --sklearn-color-fitted-level-3: cornflowerblue;\n",
       "\n",
       "  /* Specific color for light theme */\n",
       "  --sklearn-color-text-on-default-background: var(--sg-text-color, var(--theme-code-foreground, var(--jp-content-font-color1, black)));\n",
       "  --sklearn-color-background: var(--sg-background-color, var(--theme-background, var(--jp-layout-color0, white)));\n",
       "  --sklearn-color-border-box: var(--sg-text-color, var(--theme-code-foreground, var(--jp-content-font-color1, black)));\n",
       "  --sklearn-color-icon: #696969;\n",
       "\n",
       "  @media (prefers-color-scheme: dark) {\n",
       "    /* Redefinition of color scheme for dark theme */\n",
       "    --sklearn-color-text-on-default-background: var(--sg-text-color, var(--theme-code-foreground, var(--jp-content-font-color1, white)));\n",
       "    --sklearn-color-background: var(--sg-background-color, var(--theme-background, var(--jp-layout-color0, #111)));\n",
       "    --sklearn-color-border-box: var(--sg-text-color, var(--theme-code-foreground, var(--jp-content-font-color1, white)));\n",
       "    --sklearn-color-icon: #878787;\n",
       "  }\n",
       "}\n",
       "\n",
       "#sk-container-id-1 {\n",
       "  color: var(--sklearn-color-text);\n",
       "}\n",
       "\n",
       "#sk-container-id-1 pre {\n",
       "  padding: 0;\n",
       "}\n",
       "\n",
       "#sk-container-id-1 input.sk-hidden--visually {\n",
       "  border: 0;\n",
       "  clip: rect(1px 1px 1px 1px);\n",
       "  clip: rect(1px, 1px, 1px, 1px);\n",
       "  height: 1px;\n",
       "  margin: -1px;\n",
       "  overflow: hidden;\n",
       "  padding: 0;\n",
       "  position: absolute;\n",
       "  width: 1px;\n",
       "}\n",
       "\n",
       "#sk-container-id-1 div.sk-dashed-wrapped {\n",
       "  border: 1px dashed var(--sklearn-color-line);\n",
       "  margin: 0 0.4em 0.5em 0.4em;\n",
       "  box-sizing: border-box;\n",
       "  padding-bottom: 0.4em;\n",
       "  background-color: var(--sklearn-color-background);\n",
       "}\n",
       "\n",
       "#sk-container-id-1 div.sk-container {\n",
       "  /* jupyter's `normalize.less` sets `[hidden] { display: none; }`\n",
       "     but bootstrap.min.css set `[hidden] { display: none !important; }`\n",
       "     so we also need the `!important` here to be able to override the\n",
       "     default hidden behavior on the sphinx rendered scikit-learn.org.\n",
       "     See: https://github.com/scikit-learn/scikit-learn/issues/21755 */\n",
       "  display: inline-block !important;\n",
       "  position: relative;\n",
       "}\n",
       "\n",
       "#sk-container-id-1 div.sk-text-repr-fallback {\n",
       "  display: none;\n",
       "}\n",
       "\n",
       "div.sk-parallel-item,\n",
       "div.sk-serial,\n",
       "div.sk-item {\n",
       "  /* draw centered vertical line to link estimators */\n",
       "  background-image: linear-gradient(var(--sklearn-color-text-on-default-background), var(--sklearn-color-text-on-default-background));\n",
       "  background-size: 2px 100%;\n",
       "  background-repeat: no-repeat;\n",
       "  background-position: center center;\n",
       "}\n",
       "\n",
       "/* Parallel-specific style estimator block */\n",
       "\n",
       "#sk-container-id-1 div.sk-parallel-item::after {\n",
       "  content: \"\";\n",
       "  width: 100%;\n",
       "  border-bottom: 2px solid var(--sklearn-color-text-on-default-background);\n",
       "  flex-grow: 1;\n",
       "}\n",
       "\n",
       "#sk-container-id-1 div.sk-parallel {\n",
       "  display: flex;\n",
       "  align-items: stretch;\n",
       "  justify-content: center;\n",
       "  background-color: var(--sklearn-color-background);\n",
       "  position: relative;\n",
       "}\n",
       "\n",
       "#sk-container-id-1 div.sk-parallel-item {\n",
       "  display: flex;\n",
       "  flex-direction: column;\n",
       "}\n",
       "\n",
       "#sk-container-id-1 div.sk-parallel-item:first-child::after {\n",
       "  align-self: flex-end;\n",
       "  width: 50%;\n",
       "}\n",
       "\n",
       "#sk-container-id-1 div.sk-parallel-item:last-child::after {\n",
       "  align-self: flex-start;\n",
       "  width: 50%;\n",
       "}\n",
       "\n",
       "#sk-container-id-1 div.sk-parallel-item:only-child::after {\n",
       "  width: 0;\n",
       "}\n",
       "\n",
       "/* Serial-specific style estimator block */\n",
       "\n",
       "#sk-container-id-1 div.sk-serial {\n",
       "  display: flex;\n",
       "  flex-direction: column;\n",
       "  align-items: center;\n",
       "  background-color: var(--sklearn-color-background);\n",
       "  padding-right: 1em;\n",
       "  padding-left: 1em;\n",
       "}\n",
       "\n",
       "\n",
       "/* Toggleable style: style used for estimator/Pipeline/ColumnTransformer box that is\n",
       "clickable and can be expanded/collapsed.\n",
       "- Pipeline and ColumnTransformer use this feature and define the default style\n",
       "- Estimators will overwrite some part of the style using the `sk-estimator` class\n",
       "*/\n",
       "\n",
       "/* Pipeline and ColumnTransformer style (default) */\n",
       "\n",
       "#sk-container-id-1 div.sk-toggleable {\n",
       "  /* Default theme specific background. It is overwritten whether we have a\n",
       "  specific estimator or a Pipeline/ColumnTransformer */\n",
       "  background-color: var(--sklearn-color-background);\n",
       "}\n",
       "\n",
       "/* Toggleable label */\n",
       "#sk-container-id-1 label.sk-toggleable__label {\n",
       "  cursor: pointer;\n",
       "  display: block;\n",
       "  width: 100%;\n",
       "  margin-bottom: 0;\n",
       "  padding: 0.5em;\n",
       "  box-sizing: border-box;\n",
       "  text-align: center;\n",
       "}\n",
       "\n",
       "#sk-container-id-1 label.sk-toggleable__label-arrow:before {\n",
       "  /* Arrow on the left of the label */\n",
       "  content: \"▸\";\n",
       "  float: left;\n",
       "  margin-right: 0.25em;\n",
       "  color: var(--sklearn-color-icon);\n",
       "}\n",
       "\n",
       "#sk-container-id-1 label.sk-toggleable__label-arrow:hover:before {\n",
       "  color: var(--sklearn-color-text);\n",
       "}\n",
       "\n",
       "/* Toggleable content - dropdown */\n",
       "\n",
       "#sk-container-id-1 div.sk-toggleable__content {\n",
       "  max-height: 0;\n",
       "  max-width: 0;\n",
       "  overflow: hidden;\n",
       "  text-align: left;\n",
       "  /* unfitted */\n",
       "  background-color: var(--sklearn-color-unfitted-level-0);\n",
       "}\n",
       "\n",
       "#sk-container-id-1 div.sk-toggleable__content.fitted {\n",
       "  /* fitted */\n",
       "  background-color: var(--sklearn-color-fitted-level-0);\n",
       "}\n",
       "\n",
       "#sk-container-id-1 div.sk-toggleable__content pre {\n",
       "  margin: 0.2em;\n",
       "  border-radius: 0.25em;\n",
       "  color: var(--sklearn-color-text);\n",
       "  /* unfitted */\n",
       "  background-color: var(--sklearn-color-unfitted-level-0);\n",
       "}\n",
       "\n",
       "#sk-container-id-1 div.sk-toggleable__content.fitted pre {\n",
       "  /* unfitted */\n",
       "  background-color: var(--sklearn-color-fitted-level-0);\n",
       "}\n",
       "\n",
       "#sk-container-id-1 input.sk-toggleable__control:checked~div.sk-toggleable__content {\n",
       "  /* Expand drop-down */\n",
       "  max-height: 200px;\n",
       "  max-width: 100%;\n",
       "  overflow: auto;\n",
       "}\n",
       "\n",
       "#sk-container-id-1 input.sk-toggleable__control:checked~label.sk-toggleable__label-arrow:before {\n",
       "  content: \"▾\";\n",
       "}\n",
       "\n",
       "/* Pipeline/ColumnTransformer-specific style */\n",
       "\n",
       "#sk-container-id-1 div.sk-label input.sk-toggleable__control:checked~label.sk-toggleable__label {\n",
       "  color: var(--sklearn-color-text);\n",
       "  background-color: var(--sklearn-color-unfitted-level-2);\n",
       "}\n",
       "\n",
       "#sk-container-id-1 div.sk-label.fitted input.sk-toggleable__control:checked~label.sk-toggleable__label {\n",
       "  background-color: var(--sklearn-color-fitted-level-2);\n",
       "}\n",
       "\n",
       "/* Estimator-specific style */\n",
       "\n",
       "/* Colorize estimator box */\n",
       "#sk-container-id-1 div.sk-estimator input.sk-toggleable__control:checked~label.sk-toggleable__label {\n",
       "  /* unfitted */\n",
       "  background-color: var(--sklearn-color-unfitted-level-2);\n",
       "}\n",
       "\n",
       "#sk-container-id-1 div.sk-estimator.fitted input.sk-toggleable__control:checked~label.sk-toggleable__label {\n",
       "  /* fitted */\n",
       "  background-color: var(--sklearn-color-fitted-level-2);\n",
       "}\n",
       "\n",
       "#sk-container-id-1 div.sk-label label.sk-toggleable__label,\n",
       "#sk-container-id-1 div.sk-label label {\n",
       "  /* The background is the default theme color */\n",
       "  color: var(--sklearn-color-text-on-default-background);\n",
       "}\n",
       "\n",
       "/* On hover, darken the color of the background */\n",
       "#sk-container-id-1 div.sk-label:hover label.sk-toggleable__label {\n",
       "  color: var(--sklearn-color-text);\n",
       "  background-color: var(--sklearn-color-unfitted-level-2);\n",
       "}\n",
       "\n",
       "/* Label box, darken color on hover, fitted */\n",
       "#sk-container-id-1 div.sk-label.fitted:hover label.sk-toggleable__label.fitted {\n",
       "  color: var(--sklearn-color-text);\n",
       "  background-color: var(--sklearn-color-fitted-level-2);\n",
       "}\n",
       "\n",
       "/* Estimator label */\n",
       "\n",
       "#sk-container-id-1 div.sk-label label {\n",
       "  font-family: monospace;\n",
       "  font-weight: bold;\n",
       "  display: inline-block;\n",
       "  line-height: 1.2em;\n",
       "}\n",
       "\n",
       "#sk-container-id-1 div.sk-label-container {\n",
       "  text-align: center;\n",
       "}\n",
       "\n",
       "/* Estimator-specific */\n",
       "#sk-container-id-1 div.sk-estimator {\n",
       "  font-family: monospace;\n",
       "  border: 1px dotted var(--sklearn-color-border-box);\n",
       "  border-radius: 0.25em;\n",
       "  box-sizing: border-box;\n",
       "  margin-bottom: 0.5em;\n",
       "  /* unfitted */\n",
       "  background-color: var(--sklearn-color-unfitted-level-0);\n",
       "}\n",
       "\n",
       "#sk-container-id-1 div.sk-estimator.fitted {\n",
       "  /* fitted */\n",
       "  background-color: var(--sklearn-color-fitted-level-0);\n",
       "}\n",
       "\n",
       "/* on hover */\n",
       "#sk-container-id-1 div.sk-estimator:hover {\n",
       "  /* unfitted */\n",
       "  background-color: var(--sklearn-color-unfitted-level-2);\n",
       "}\n",
       "\n",
       "#sk-container-id-1 div.sk-estimator.fitted:hover {\n",
       "  /* fitted */\n",
       "  background-color: var(--sklearn-color-fitted-level-2);\n",
       "}\n",
       "\n",
       "/* Specification for estimator info (e.g. \"i\" and \"?\") */\n",
       "\n",
       "/* Common style for \"i\" and \"?\" */\n",
       "\n",
       ".sk-estimator-doc-link,\n",
       "a:link.sk-estimator-doc-link,\n",
       "a:visited.sk-estimator-doc-link {\n",
       "  float: right;\n",
       "  font-size: smaller;\n",
       "  line-height: 1em;\n",
       "  font-family: monospace;\n",
       "  background-color: var(--sklearn-color-background);\n",
       "  border-radius: 1em;\n",
       "  height: 1em;\n",
       "  width: 1em;\n",
       "  text-decoration: none !important;\n",
       "  margin-left: 1ex;\n",
       "  /* unfitted */\n",
       "  border: var(--sklearn-color-unfitted-level-1) 1pt solid;\n",
       "  color: var(--sklearn-color-unfitted-level-1);\n",
       "}\n",
       "\n",
       ".sk-estimator-doc-link.fitted,\n",
       "a:link.sk-estimator-doc-link.fitted,\n",
       "a:visited.sk-estimator-doc-link.fitted {\n",
       "  /* fitted */\n",
       "  border: var(--sklearn-color-fitted-level-1) 1pt solid;\n",
       "  color: var(--sklearn-color-fitted-level-1);\n",
       "}\n",
       "\n",
       "/* On hover */\n",
       "div.sk-estimator:hover .sk-estimator-doc-link:hover,\n",
       ".sk-estimator-doc-link:hover,\n",
       "div.sk-label-container:hover .sk-estimator-doc-link:hover,\n",
       ".sk-estimator-doc-link:hover {\n",
       "  /* unfitted */\n",
       "  background-color: var(--sklearn-color-unfitted-level-3);\n",
       "  color: var(--sklearn-color-background);\n",
       "  text-decoration: none;\n",
       "}\n",
       "\n",
       "div.sk-estimator.fitted:hover .sk-estimator-doc-link.fitted:hover,\n",
       ".sk-estimator-doc-link.fitted:hover,\n",
       "div.sk-label-container:hover .sk-estimator-doc-link.fitted:hover,\n",
       ".sk-estimator-doc-link.fitted:hover {\n",
       "  /* fitted */\n",
       "  background-color: var(--sklearn-color-fitted-level-3);\n",
       "  color: var(--sklearn-color-background);\n",
       "  text-decoration: none;\n",
       "}\n",
       "\n",
       "/* Span, style for the box shown on hovering the info icon */\n",
       ".sk-estimator-doc-link span {\n",
       "  display: none;\n",
       "  z-index: 9999;\n",
       "  position: relative;\n",
       "  font-weight: normal;\n",
       "  right: .2ex;\n",
       "  padding: .5ex;\n",
       "  margin: .5ex;\n",
       "  width: min-content;\n",
       "  min-width: 20ex;\n",
       "  max-width: 50ex;\n",
       "  color: var(--sklearn-color-text);\n",
       "  box-shadow: 2pt 2pt 4pt #999;\n",
       "  /* unfitted */\n",
       "  background: var(--sklearn-color-unfitted-level-0);\n",
       "  border: .5pt solid var(--sklearn-color-unfitted-level-3);\n",
       "}\n",
       "\n",
       ".sk-estimator-doc-link.fitted span {\n",
       "  /* fitted */\n",
       "  background: var(--sklearn-color-fitted-level-0);\n",
       "  border: var(--sklearn-color-fitted-level-3);\n",
       "}\n",
       "\n",
       ".sk-estimator-doc-link:hover span {\n",
       "  display: block;\n",
       "}\n",
       "\n",
       "/* \"?\"-specific style due to the `<a>` HTML tag */\n",
       "\n",
       "#sk-container-id-1 a.estimator_doc_link {\n",
       "  float: right;\n",
       "  font-size: 1rem;\n",
       "  line-height: 1em;\n",
       "  font-family: monospace;\n",
       "  background-color: var(--sklearn-color-background);\n",
       "  border-radius: 1rem;\n",
       "  height: 1rem;\n",
       "  width: 1rem;\n",
       "  text-decoration: none;\n",
       "  /* unfitted */\n",
       "  color: var(--sklearn-color-unfitted-level-1);\n",
       "  border: var(--sklearn-color-unfitted-level-1) 1pt solid;\n",
       "}\n",
       "\n",
       "#sk-container-id-1 a.estimator_doc_link.fitted {\n",
       "  /* fitted */\n",
       "  border: var(--sklearn-color-fitted-level-1) 1pt solid;\n",
       "  color: var(--sklearn-color-fitted-level-1);\n",
       "}\n",
       "\n",
       "/* On hover */\n",
       "#sk-container-id-1 a.estimator_doc_link:hover {\n",
       "  /* unfitted */\n",
       "  background-color: var(--sklearn-color-unfitted-level-3);\n",
       "  color: var(--sklearn-color-background);\n",
       "  text-decoration: none;\n",
       "}\n",
       "\n",
       "#sk-container-id-1 a.estimator_doc_link.fitted:hover {\n",
       "  /* fitted */\n",
       "  background-color: var(--sklearn-color-fitted-level-3);\n",
       "}\n",
       "</style><div id=\"sk-container-id-1\" class=\"sk-top-container\"><div class=\"sk-text-repr-fallback\"><pre>RandomizedSearchCV(estimator=KMeans(random_state=40),\n",
       "                   param_distributions={&#x27;init&#x27;: [&#x27;k-means++&#x27;, &#x27;random&#x27;],\n",
       "                                        &#x27;max_iter&#x27;: [100, 300, 400],\n",
       "                                        &#x27;n_clusters&#x27;: [2, 8, 16, 20],\n",
       "                                        &#x27;n_init&#x27;: [10, 20]},\n",
       "                   random_state=40, scoring=&#x27;adjusted_rand_score&#x27;)</pre><b>In a Jupyter environment, please rerun this cell to show the HTML representation or trust the notebook. <br />On GitHub, the HTML representation is unable to render, please try loading this page with nbviewer.org.</b></div><div class=\"sk-container\" hidden><div class=\"sk-item sk-dashed-wrapped\"><div class=\"sk-label-container\"><div class=\"sk-label fitted sk-toggleable\"><input class=\"sk-toggleable__control sk-hidden--visually\" id=\"sk-estimator-id-1\" type=\"checkbox\" ><label for=\"sk-estimator-id-1\" class=\"sk-toggleable__label fitted sk-toggleable__label-arrow fitted\">&nbsp;&nbsp;RandomizedSearchCV<a class=\"sk-estimator-doc-link fitted\" rel=\"noreferrer\" target=\"_blank\" href=\"https://scikit-learn.org/1.5/modules/generated/sklearn.model_selection.RandomizedSearchCV.html\">?<span>Documentation for RandomizedSearchCV</span></a><span class=\"sk-estimator-doc-link fitted\">i<span>Fitted</span></span></label><div class=\"sk-toggleable__content fitted\"><pre>RandomizedSearchCV(estimator=KMeans(random_state=40),\n",
       "                   param_distributions={&#x27;init&#x27;: [&#x27;k-means++&#x27;, &#x27;random&#x27;],\n",
       "                                        &#x27;max_iter&#x27;: [100, 300, 400],\n",
       "                                        &#x27;n_clusters&#x27;: [2, 8, 16, 20],\n",
       "                                        &#x27;n_init&#x27;: [10, 20]},\n",
       "                   random_state=40, scoring=&#x27;adjusted_rand_score&#x27;)</pre></div> </div></div><div class=\"sk-parallel\"><div class=\"sk-parallel-item\"><div class=\"sk-item\"><div class=\"sk-label-container\"><div class=\"sk-label fitted sk-toggleable\"><input class=\"sk-toggleable__control sk-hidden--visually\" id=\"sk-estimator-id-2\" type=\"checkbox\" ><label for=\"sk-estimator-id-2\" class=\"sk-toggleable__label fitted sk-toggleable__label-arrow fitted\">best_estimator_: KMeans</label><div class=\"sk-toggleable__content fitted\"><pre>KMeans(max_iter=400, n_clusters=2, n_init=10, random_state=40)</pre></div> </div></div><div class=\"sk-serial\"><div class=\"sk-item\"><div class=\"sk-estimator fitted sk-toggleable\"><input class=\"sk-toggleable__control sk-hidden--visually\" id=\"sk-estimator-id-3\" type=\"checkbox\" ><label for=\"sk-estimator-id-3\" class=\"sk-toggleable__label fitted sk-toggleable__label-arrow fitted\">&nbsp;KMeans<a class=\"sk-estimator-doc-link fitted\" rel=\"noreferrer\" target=\"_blank\" href=\"https://scikit-learn.org/1.5/modules/generated/sklearn.cluster.KMeans.html\">?<span>Documentation for KMeans</span></a></label><div class=\"sk-toggleable__content fitted\"><pre>KMeans(max_iter=400, n_clusters=2, n_init=10, random_state=40)</pre></div> </div></div></div></div></div></div></div></div></div>"
      ],
      "text/plain": [
       "RandomizedSearchCV(estimator=KMeans(random_state=40),\n",
       "                   param_distributions={'init': ['k-means++', 'random'],\n",
       "                                        'max_iter': [100, 300, 400],\n",
       "                                        'n_clusters': [2, 8, 16, 20],\n",
       "                                        'n_init': [10, 20]},\n",
       "                   random_state=40, scoring='adjusted_rand_score')"
      ]
     },
     "execution_count": 50,
     "metadata": {},
     "output_type": "execute_result"
    }
   ],
   "source": [
    "from sklearn.model_selection import RandomizedSearchCV\n",
    "\n",
    "param_dist = {\n",
    "    'n_clusters': [2, 8, 16, 20],\n",
    "    'init': ['k-means++', 'random'],\n",
    "    'n_init': [10, 20],\n",
    "    'max_iter': [100, 300, 400]\n",
    "}\n",
    "\n",
    "km_gs = KMeans(random_state=40)\n",
    "\n",
    "randomized_search = RandomizedSearchCV(km_gs, param_distributions=param_dist, n_iter=10, scoring='adjusted_rand_score', random_state=40)\n",
    "randomized_search.fit(X, kmeans_data['spam'])"
   ]
  },
  {
   "cell_type": "code",
   "execution_count": 51,
   "id": "feb81265-5f93-48fc-98a9-cb42158480ae",
   "metadata": {},
   "outputs": [
    {
     "name": "stdout",
     "output_type": "stream",
     "text": [
      "Best Parameters: {'n_init': 10, 'n_clusters': 2, 'max_iter': 400, 'init': 'k-means++'}\n",
      "Best ARI: 0.016385769734162045\n"
     ]
    }
   ],
   "source": [
    "print(f\"Best Parameters: {randomized_search.best_params_}\")\n",
    "print(f\"Best ARI: {randomized_search.best_score_}\")"
   ]
  },
  {
   "cell_type": "markdown",
   "id": "4ab76c55-0326-4f1e-9b92-933263ea6294",
   "metadata": {},
   "source": [
    "### Latent Dirichlet Allocation (LDA)"
   ]
  },
  {
   "cell_type": "code",
   "execution_count": 52,
   "id": "9410c88d-bce6-4053-b623-8e03cc5604c7",
   "metadata": {},
   "outputs": [
    {
     "name": "stdout",
     "output_type": "stream",
     "text": [
      "(0, '0.051*\"gt\" + 0.050*\"lt\" + 0.024*\"stop\" + 0.018*\"text\" + 0.016*\"send\" + 0.012*\"reply\" + 0.012*\"number\" + 0.011*\"free\" + 0.011*\"min\" + 0.009*\"chat\"')\n",
      "(1, '0.029*\"want\" + 0.028*\"know\" + 0.024*\"free\" + 0.023*\"come\" + 0.021*\"pls\" + 0.014*\"right\" + 0.013*\"phone\" + 0.013*\"dont\" + 0.012*\"yes\" + 0.012*\"need\"')\n",
      "(2, '0.021*\"later\" + 0.020*\"got\" + 0.017*\"sorry\" + 0.013*\"ask\" + 0.013*\"say\" + 0.012*\"think\" + 0.012*\"hi\" + 0.011*\"know\" + 0.010*\"hey\" + 0.010*\"oh\"')\n",
      "(3, '0.040*\"ur\" + 0.021*\"txt\" + 0.018*\"claim\" + 0.015*\"prize\" + 0.014*\"cash\" + 0.012*\"win\" + 0.011*\"free\" + 0.010*\"mobile\" + 0.010*\"urgent\" + 0.010*\"www\"')\n",
      "(4, '0.031*\"ok\" + 0.024*\"good\" + 0.021*\"day\" + 0.019*\"home\" + 0.017*\"love\" + 0.015*\"going\" + 0.014*\"lor\" + 0.013*\"hope\" + 0.013*\"time\" + 0.013*\"like\"')\n"
     ]
    }
   ],
   "source": [
    "from gensim.corpora import Dictionary\n",
    "from gensim.models import LdaModel\n",
    "\n",
    "lda_data = data.copy()\n",
    "lda_data['text'] = lda_data['text'].apply(tokenize)\n",
    "\n",
    "dictionary = Dictionary(lda_data['text'])\n",
    "\n",
    "dictionary.filter_extremes(no_below=5, no_above=0.5)\n",
    "\n",
    "# bag of words\n",
    "corpus = [dictionary.doc2bow(text) for text in lda_data['text']]\n",
    "\n",
    "lda = LdaModel(corpus=corpus, id2word=dictionary, num_topics=5, random_state=40, passes=10)\n",
    "\n",
    "topics = lda.print_topics(num_words=10)\n",
    "for topic in topics:\n",
    "    print(topic)"
   ]
  },
  {
   "cell_type": "markdown",
   "id": "731ce8e5-5c7b-48b6-972b-2aa6e08ff72b",
   "metadata": {},
   "source": [
    "Here we can see the relationships LDA found between \"send\", \"text\", \"reply\", and \"stop\" which likely follow the FCC texting opt in guidelines. There's also an interesting grouping of \"love\", \"home\", and \"hope\".\n",
    "\n",
    "It seems likely here that this topic has more of the spam words:\n",
    "\n",
    "(3, '0.040*\"ur\" + 0.021*\"txt\" + 0.018*\"claim\" + 0.015*\"prize\" + 0.014*\"cash\" + 0.012*\"win\" + 0.011*\"free\" + 0.010*\"mobile\" + 0.010*\"urgent\" + 0.010*\"www\"')\n"
   ]
  },
  {
   "cell_type": "code",
   "execution_count": 53,
   "id": "13474b98-a5a1-477c-be07-dc30f9937869",
   "metadata": {},
   "outputs": [],
   "source": [
    "def get_document_topics(corpus, model):\n",
    "    doc_topics = [model.get_document_topics(item) for item in corpus]\n",
    "    return doc_topics\n",
    "\n",
    "lda_data['topics'] = get_document_topics(corpus, lda)"
   ]
  },
  {
   "cell_type": "code",
   "execution_count": 54,
   "id": "f94143c9-857b-49ed-a85b-e11bc1c16d28",
   "metadata": {},
   "outputs": [
    {
     "name": "stdout",
     "output_type": "stream",
     "text": [
      "Topic 0:\n"
     ]
    },
    {
     "data": {
      "image/png": "[encoded data removed]",
      "text/plain": [
       "<Figure size 800x600 with 1 Axes>"
      ]
     },
     "metadata": {},
     "output_type": "display_data"
    },
    {
     "name": "stdout",
     "output_type": "stream",
     "text": [
      "Topic 1:\n"
     ]
    },
    {
     "data": {
      "image/png": "[encoded data removed]",
      "text/plain": [
       "<Figure size 800x600 with 1 Axes>"
      ]
     },
     "metadata": {},
     "output_type": "display_data"
    },
    {
     "name": "stdout",
     "output_type": "stream",
     "text": [
      "Topic 2:\n"
     ]
    },
    {
     "data": {
      "image/png": "[encoded data removed]",
      "text/plain": [
       "<Figure size 800x600 with 1 Axes>"
      ]
     },
     "metadata": {},
     "output_type": "display_data"
    },
    {
     "name": "stdout",
     "output_type": "stream",
     "text": [
      "Topic 3:\n"
     ]
    },
    {
     "data": {
      "image/png": "[encoded data removed]",
      "text/plain": [
       "<Figure size 800x600 with 1 Axes>"
      ]
     },
     "metadata": {},
     "output_type": "display_data"
    },
    {
     "name": "stdout",
     "output_type": "stream",
     "text": [
      "Topic 4:\n"
     ]
    },
    {
     "data": {
      "image/png": "[encoded data removed]",
      "text/plain": [
       "<Figure size 800x600 with 1 Axes>"
      ]
     },
     "metadata": {},
     "output_type": "display_data"
    }
   ],
   "source": [
    "def plot_top_words(lda_model, feature_names, n_top_words=10):\n",
    "    for topic_idx, topic in enumerate(lda_model.get_topics()):\n",
    "        print(f\"Topic {topic_idx}:\")\n",
    "        top_features_ind = topic.argsort()[:-n_top_words - 1:-1]\n",
    "        top_features = [feature_names[i] for i in top_features_ind]\n",
    "        weights = topic[top_features_ind]\n",
    "\n",
    "        plt.figure(figsize=(8, 6))\n",
    "        plt.barh(top_features, weights, color='skyblue')\n",
    "        plt.gca().invert_yaxis()\n",
    "        plt.title(f\"Topic {topic_idx}\")\n",
    "        plt.xlabel(\"Word Importance\")\n",
    "        plt.show()\n",
    "\n",
    "plot_top_words(lda, dictionary.id2token, n_top_words=10)"
   ]
  },
  {
   "cell_type": "code",
   "execution_count": 55,
   "id": "3f56292e-7e8f-4403-a4d1-c1c55312ea7d",
   "metadata": {},
   "outputs": [
    {
     "name": "stdout",
     "output_type": "stream",
     "text": [
      "Coherence Score: 0.32087433407050286\n"
     ]
    }
   ],
   "source": [
    "from gensim.models.coherencemodel import CoherenceModel\n",
    "coherence_model_lda = CoherenceModel(model=lda, texts=lda_data['text'], dictionary=dictionary, coherence='c_v')\n",
    "print(f'Coherence Score: {coherence_model_lda.get_coherence()}')"
   ]
  },
  {
   "cell_type": "markdown",
   "id": "ce387971-986a-4885-b8f4-4915db86e66b",
   "metadata": {},
   "source": [
    "**Hyperparameter tuning**"
   ]
  },
  {
   "cell_type": "code",
   "execution_count": 56,
   "id": "110fa7f7-164f-4105-b2e1-f0f9e4e2a5ec",
   "metadata": {
    "scrolled": true
   },
   "outputs": [
    {
     "data": {
      "image/png": "[encoded data removed]",
      "text/plain": [
       "<Figure size 640x480 with 1 Axes>"
      ]
     },
     "metadata": {},
     "output_type": "display_data"
    }
   ],
   "source": [
    "coherences = []\n",
    "num_topics_range = range(2, 81, 6)\n",
    "\n",
    "for n in num_topics_range:\n",
    "    lda = LdaModel(corpus=corpus, id2word=dictionary, num_topics=n, random_state=40, passes=10)\n",
    "    coherence_model_lda = CoherenceModel(model=lda, texts=lda_data['text'], dictionary=dictionary, coherence='c_v')\n",
    "    coherences.append(coherence_model_lda.get_coherence())\n",
    "\n",
    "plt.plot(num_topics_range, coherences, marker='o')\n",
    "plt.title('Optimal num_topics')\n",
    "plt.xlabel('num_topics')\n",
    "plt.ylabel('coherence')\n",
    "plt.show()"
   ]
  },
  {
   "cell_type": "code",
   "execution_count": 57,
   "id": "97b9e005-f0ad-4443-8079-c01582354627",
   "metadata": {},
   "outputs": [
    {
     "name": "stdout",
     "output_type": "stream",
     "text": [
      "Coherence Score: 0.5140322267456953\n",
      "(55, '0.077*\"speak\" + 0.076*\"wot\" + 0.074*\"live\" + 0.063*\"town\" + 0.045*\"saturday\"')\n",
      "(40, '0.138*\"right\" + 0.114*\"thanks\" + 0.060*\"receive\" + 0.059*\"princess\" + 0.057*\"award\"')\n",
      "(13, '0.144*\"reply\" + 0.072*\"th\" + 0.055*\"tones\" + 0.036*\"apply\" + 0.035*\"offer\"')\n",
      "(9, '0.128*\"said\" + 0.109*\"sleep\" + 0.102*\"fine\" + 0.065*\"god\" + 0.040*\"true\"')\n",
      "(22, '0.196*\"yeah\" + 0.085*\"shit\" + 0.082*\"guys\" + 0.080*\"weekend\" + 0.068*\"like\"')\n",
      "(24, '0.304*\"think\" + 0.153*\"gonna\" + 0.091*\"people\" + 0.074*\"fuck\" + 0.065*\"times\"')\n",
      "(42, '0.256*\"going\" + 0.102*\"wat\" + 0.096*\"say\" + 0.052*\"ready\" + 0.051*\"watch\"')\n",
      "(12, '0.342*\"good\" + 0.064*\"lot\" + 0.060*\"boy\" + 0.049*\"morning\" + 0.030*\"parents\"')\n",
      "(4, '0.174*\"got\" + 0.140*\"yes\" + 0.091*\"dun\" + 0.075*\"thk\" + 0.054*\"ah\"')\n",
      "(30, '0.101*\"cash\" + 0.067*\"service\" + 0.060*\"dis\" + 0.053*\"send\" + 0.043*\"dude\"')\n",
      "(53, '0.207*\"dear\" + 0.133*\"care\" + 0.062*\"gud\" + 0.045*\"day\" + 0.037*\"ni\"')\n",
      "(29, '0.108*\"try\" + 0.103*\"lunch\" + 0.070*\"pa\" + 0.070*\"look\" + 0.065*\"wif\"')\n",
      "(1, '0.298*\"come\" + 0.282*\"time\" + 0.107*\"babe\" + 0.081*\"miss\" + 0.029*\"missed\"')\n",
      "(39, '0.343*\"want\" + 0.060*\"mins\" + 0.060*\"video\" + 0.042*\"price\" + 0.041*\"phone\"')\n",
      "(20, '0.132*\"pick\" + 0.124*\"money\" + 0.110*\"stuff\" + 0.079*\"heart\" + 0.037*\"drop\"')\n",
      "(65, '0.081*\"aight\" + 0.071*\"bad\" + 0.071*\"thats\" + 0.054*\"calling\" + 0.049*\"address\"')\n",
      "(26, '0.213*\"im\" + 0.143*\"min\" + 0.105*\"bit\" + 0.035*\"tel\" + 0.028*\"chat\"')\n",
      "(7, '0.159*\"thought\" + 0.113*\"eat\" + 0.092*\"shall\" + 0.068*\"hurt\" + 0.059*\"online\"')\n",
      "(33, '0.087*\"txt\" + 0.084*\"com\" + 0.063*\"www\" + 0.059*\"win\" + 0.044*\"free\"')\n",
      "(58, '0.370*\"know\" + 0.116*\"let\" + 0.065*\"finish\" + 0.063*\"long\" + 0.050*\"month\"')\n"
     ]
    }
   ],
   "source": [
    "# use best num_topics\n",
    "\n",
    "lda_data = data.copy()\n",
    "lda_data['text'] = lda_data['text'].apply(tokenize)\n",
    "\n",
    "dictionary = Dictionary(lda_data['text'])\n",
    "\n",
    "dictionary.filter_extremes(no_below=5, no_above=0.5)\n",
    "\n",
    "# bag of words\n",
    "corpus = [dictionary.doc2bow(text) for text in lda_data['text']]\n",
    "\n",
    "lda = LdaModel(corpus=corpus, id2word=dictionary, num_topics=66, random_state=40, passes=10)\n",
    "coherence_model_lda = CoherenceModel(model=lda, texts=lda_data['text'], dictionary=dictionary, coherence='c_v')\n",
    "print(f'Coherence Score: {coherence_model_lda.get_coherence()}')\n",
    "topics = lda.print_topics(num_words=5)\n",
    "for topic in topics:\n",
    "    print(topic)"
   ]
  },
  {
   "cell_type": "markdown",
   "id": "81bd4362-61ba-41c8-8e51-b31773e897e5",
   "metadata": {},
   "source": [
    "Here are some interesting outcome of this LDA. You can see how it found the relationships between \"im\", \"tel\", and \"chat\". There is also a relationship noted between \"apply\" and \"offer\". \n",
    "\n",
    "Its likely that topic three in this case contains key spam words: \n",
    "(13, '0.144*\"reply\" + 0.072*\"th\" + 0.055*\"tones\" + 0.036*\"apply\" + 0.035*\"offer\"')"
   ]
  },
  {
   "cell_type": "markdown",
   "id": "558e29e5-cc67-4e23-b739-08100fe5781f",
   "metadata": {},
   "source": [
    "### Isolation Forest"
   ]
  },
  {
   "cell_type": "code",
   "execution_count": 73,
   "id": "de078aa9-79f3-4e80-8fcc-8b231ced04c7",
   "metadata": {},
   "outputs": [
    {
     "name": "stdout",
     "output_type": "stream",
     "text": [
      "[1 1 1 ... 1 1 1]\n",
      "[1 1 1 ... 1 1 1]\n",
      "              precision    recall  f1-score   support\n",
      "\n",
      "          -1       0.32      0.19      0.24       144\n",
      "           1       0.89      0.94      0.91       971\n",
      "\n",
      "    accuracy                           0.84      1115\n",
      "   macro avg       0.60      0.57      0.58      1115\n",
      "weighted avg       0.81      0.84      0.83      1115\n",
      "\n",
      "[[ 28 116]\n",
      " [ 59 912]]\n"
     ]
    }
   ],
   "source": [
    "from sklearn.model_selection import train_test_split\n",
    "from sklearn.ensemble import IsolationForest\n",
    "from sklearn.metrics import classification_report, confusion_matrix\n",
    "\n",
    "X_train, X_test = train_test_split(data, test_size=0.2, random_state=40)\n",
    "vectorizer = TfidfVectorizer()\n",
    "\n",
    "X_train_vector = vectorizer.fit_transform(X_train['text'])\n",
    "X_test_vector = vectorizer.transform(X_test['text'])\n",
    "\n",
    "iso_forest = IsolationForest(contamination=0.1, random_state=40)\n",
    "\n",
    "# fit and predict iso_forest\n",
    "iso_forest.fit(X_train_vector)\n",
    "y_pred = iso_forest.predict(X_test_vector)\n",
    "\n",
    "# pull out the spam boolean as -1 or 1\n",
    "y_test = X_test['spam'].apply(lambda x: -1 if x else 1)\n",
    "print(y_pred)\n",
    "print(y_test.values)\n",
    "\n",
    "print(classification_report(y_test, y_pred))\n",
    "print(confusion_matrix(y_test, y_pred))\n"
   ]
  },
  {
   "cell_type": "markdown",
   "id": "20de47d8-00f4-4416-bc42-121d6620d080",
   "metadata": {},
   "source": [
    "**Hyperparameter tuning with Isolation Forest**"
   ]
  },
  {
   "cell_type": "code",
   "execution_count": 68,
   "id": "c396c1d5-c374-49d6-a0ee-5b99709bf6bc",
   "metadata": {},
   "outputs": [
    {
     "name": "stdout",
     "output_type": "stream",
     "text": [
      "{'bootstrap': False, 'contamination': 0.1, 'max_features': 1.0, 'max_samples': 0.5, 'n_estimators': 400, 'random_state': 40}\n"
     ]
    }
   ],
   "source": [
    "from sklearn.model_selection import GridSearchCV\n",
    "\n",
    "param_grid = {\n",
    "    'n_estimators': [100, 200, 300, 400, 500],\n",
    "    'max_samples': ['auto', 0.5, 0.75],\n",
    "    'contamination': [0.01, 0.05, 0.1],\n",
    "    'max_features': [1.0, 0.8, 0.5],\n",
    "    'bootstrap': [False, True],\n",
    "    'random_state': [40]\n",
    "}\n",
    "\n",
    "y_train = X_train['spam'].apply(lambda x: -1 if x else 1)\n",
    "\n",
    "\n",
    "iso_gs = IsolationForest()\n",
    "grid_search = GridSearchCV(estimator=iso_gs, param_grid=param_grid, cv=3, scoring='f1', n_jobs=-1)\n",
    "grid_search.fit(X_train_vector, y_train)\n",
    "print(grid_search.best_params_)\n"
   ]
  },
  {
   "cell_type": "code",
   "execution_count": 74,
   "id": "514d0384-ea63-4627-9b26-91711eddb8aa",
   "metadata": {},
   "outputs": [
    {
     "name": "stdout",
     "output_type": "stream",
     "text": [
      "[1 1 1 ... 1 1 1]\n",
      "[1 1 1 ... 1 1 1]\n",
      "              precision    recall  f1-score   support\n",
      "\n",
      "          -1       0.38      0.19      0.25       144\n",
      "           1       0.89      0.95      0.92       971\n",
      "\n",
      "    accuracy                           0.85      1115\n",
      "   macro avg       0.63      0.57      0.58      1115\n",
      "weighted avg       0.82      0.85      0.83      1115\n",
      "\n",
      "[[ 27 117]\n",
      " [ 45 926]]\n"
     ]
    }
   ],
   "source": [
    "# using the best params\n",
    "iso_forest = IsolationForest(contamination=0.1, random_state=40, max_features=1, max_samples=0.5, n_estimators=400, bootstrap=False)\n",
    "iso_forest.fit(X_train_vector)\n",
    "\n",
    "y_pred = iso_forest.predict(X_test_vector)\n",
    "\n",
    "# pull out the spam boolean as -1 or 1\n",
    "y_test = X_test['spam'].apply(lambda x: -1 if x else 1)\n",
    "\n",
    "print(y_pred)\n",
    "print(y_test.values)\n",
    "\n",
    "print(classification_report(y_test, y_pred))\n",
    "print(confusion_matrix(y_test, y_pred))"
   ]
  },
  {
   "cell_type": "markdown",
   "id": "0d491cb6-0607-4eef-b3bf-109373670d2f",
   "metadata": {},
   "source": [
    "## Supervised Learning: "
   ]
  },
  {
   "cell_type": "markdown",
   "id": "0657667f-dc72-451f-9511-1d58bd84e47e",
   "metadata": {},
   "source": [
    "### Logistic Regression"
   ]
  },
  {
   "cell_type": "code",
   "execution_count": 71,
   "id": "e256d2d3-d627-4f4b-9f18-88abed771f86",
   "metadata": {},
   "outputs": [
    {
     "name": "stdout",
     "output_type": "stream",
     "text": [
      "accuracy:  0.9605381165919282\n",
      "              precision    recall  f1-score   support\n",
      "\n",
      "       False       0.96      1.00      0.98       971\n",
      "        True       0.97      0.72      0.82       144\n",
      "\n",
      "    accuracy                           0.96      1115\n",
      "   macro avg       0.97      0.86      0.90      1115\n",
      "weighted avg       0.96      0.96      0.96      1115\n",
      "\n"
     ]
    }
   ],
   "source": [
    "from sklearn.linear_model import LogisticRegression\n",
    "from sklearn.metrics import classification_report, accuracy_score\n",
    "\n",
    "X = text_vectors\n",
    "y = data['spam']\n",
    "\n",
    "X_train, X_test, y_train, y_test = train_test_split(X, y, test_size=0.2, random_state=40)\n",
    "\n",
    "lgr = LogisticRegression()\n",
    "\n",
    "# fit LogisticRegression and make prediction\n",
    "lgr.fit(X_train, y_train)\n",
    "y_pred = lgr.predict(X_test)\n",
    "\n",
    "print(\"accuracy: \", accuracy_score(y_test, y_pred))\n",
    "print(classification_report(y_test, y_pred))"
   ]
  },
  {
   "cell_type": "markdown",
   "id": "791a4bdd-ff84-46be-baf0-291c67bff6bb",
   "metadata": {},
   "source": [
    "### MultinomialNB"
   ]
  },
  {
   "cell_type": "code",
   "execution_count": 78,
   "id": "f0d4fac5-4d0e-4140-9de3-a5d7ac7508d6",
   "metadata": {
    "scrolled": true
   },
   "outputs": [
    {
     "name": "stdout",
     "output_type": "stream",
     "text": [
      "accuracy:  0.9704035874439462\n",
      "              precision    recall  f1-score   support\n",
      "\n",
      "       False       0.97      1.00      0.98       971\n",
      "        True       1.00      0.77      0.87       144\n",
      "\n",
      "    accuracy                           0.97      1115\n",
      "   macro avg       0.98      0.89      0.93      1115\n",
      "weighted avg       0.97      0.97      0.97      1115\n",
      "\n"
     ]
    }
   ],
   "source": [
    "from sklearn.naive_bayes import MultinomialNB\n",
    "\n",
    "X = text_vectors\n",
    "y = data['spam']\n",
    "X_train, X_test, y_train, y_test = train_test_split(X, y, test_size=0.2, random_state=40)\n",
    "\n",
    "mnb = MultinomialNB()\n",
    "\n",
    "# fit MultinomialNB and make prediction\n",
    "mnb.fit(X_train, y_train)\n",
    "y_pred = mnb.predict(X_test)\n",
    "\n",
    "# print accuracy and classification_report\n",
    "print(\"accuracy: \", accuracy_score(y_test, y_pred))\n",
    "print(classification_report(y_test, y_pred))"
   ]
  },
  {
   "cell_type": "code",
   "execution_count": 80,
   "id": "97a7dd88-0f9d-45ce-a08a-afa753b29287",
   "metadata": {},
   "outputs": [
    {
     "name": "stdout",
     "output_type": "stream",
     "text": [
      "accuracy:  0.9748878923766816\n",
      "accuracy:  0.9775784753363229\n",
      "accuracy:  0.9704035874439462\n",
      "accuracy:  0.9479820627802691\n",
      "accuracy:  0.9031390134529148\n",
      "accuracy:  0.8753363228699551\n"
     ]
    }
   ],
   "source": [
    "# tune hyperparameter alpha\n",
    "alphas = [0.1, 0.5, 1.0, 2.0, 5.0, 10.0]\n",
    "for a in alphas:\n",
    "    mnb = MultinomialNB(alpha=a)\n",
    "    mnb.fit(X_train, y_train)\n",
    "    y_pred = mnb.predict(X_test)\n",
    "    print(\"accuracy: \", accuracy_score(y_test, y_pred))"
   ]
  },
  {
   "cell_type": "code",
   "execution_count": 83,
   "id": "cf71b5d6-83f4-4d00-b000-f2226917eab7",
   "metadata": {},
   "outputs": [
    {
     "name": "stdout",
     "output_type": "stream",
     "text": [
      "accuracy:  0.9775784753363229\n",
      "              precision    recall  f1-score   support\n",
      "\n",
      "       False       0.98      1.00      0.99       971\n",
      "        True       0.98      0.84      0.91       144\n",
      "\n",
      "    accuracy                           0.98      1115\n",
      "   macro avg       0.98      0.92      0.95      1115\n",
      "weighted avg       0.98      0.98      0.98      1115\n",
      "\n"
     ]
    }
   ],
   "source": [
    "# run the best alpha\n",
    "mnb = MultinomialNB(alpha=0.5)\n",
    "mnb.fit(X_train, y_train)\n",
    "y_pred = mnb.predict(X_test)\n",
    "print(\"accuracy: \", accuracy_score(y_test, y_pred))\n",
    "print(classification_report(y_test, y_pred))\n"
   ]
  },
  {
   "cell_type": "markdown",
   "id": "bb0a5500-e0d5-49ff-9b07-0b0e6d786293",
   "metadata": {},
   "source": [
    "# Results & Analysis"
   ]
  },
  {
   "cell_type": "markdown",
   "id": "e921ddc7-cc31-4970-bd54-c30106b4b751",
   "metadata": {},
   "source": [
    "### Summary"
   ]
  },
  {
   "cell_type": "markdown",
   "id": "bc720f0c-e023-4a4b-b663-b08bca7f5b0b",
   "metadata": {},
   "source": [
    "I implemented unsupervised methods (NMF, KMeans, and LDA) and supervised methods (Logistic Regression and MultinomialNB). For the unsupervised methods, I had the goal of learning about the words that make up spam and the relationships between the words in the corpus in general. I also experimented with word embeddings and used TF-IDF for vectorizing the texts.\n",
    "\n",
    "Through NMF and LDA, I was able to find topic groups of words with relationships between them. Notably, through LDA I found a topic grouping that appeared to group many likely spam words, as shown in this graph."
   ]
  },
  {
   "attachments": {
    "b7b92cc1-ac03-4198-95ac-e8f31dcd58e6.png": {
     "image/png": "[encoded data removed]"
    }
   },
   "cell_type": "markdown",
   "id": "fbdbcd1f-44db-46ed-9a37-c41f52db8140",
   "metadata": {},
   "source": [
    "![Screenshot 2024-08-08 at 9.34.23 PM.png](attachment:b7b92cc1-ac03-4198-95ac-e8f31dcd58e6.png)"
   ]
  },
  {
   "cell_type": "markdown",
   "id": "661962a2-295f-4451-9e04-4c805348909b",
   "metadata": {},
   "source": [
    "### Performance"
   ]
  },
  {
   "cell_type": "markdown",
   "id": "59a955e0-286f-48c4-ae93-e22481f84f56",
   "metadata": {},
   "source": [
    "For KMeans, I was able to achieve a silhouette score of 0.5349 which fell short of what I would like to have achieved, as it ranges from -1 to 1. I achieved an ARI of 0.0155 after tuning parameters and iterating, which is also lacking because that ranges from -1 to 1.\n",
    "\n",
    "For LDA, I had a coherence score (measuring the quality of topics) of 0.514. I used this metric to ensure my groupings made sense. I also visually inspected words in the groupings and understood the relationships between them. For NMF, I found a good balance between reconstruction error and complexity of groupings (having too many groupings).\n",
    "\n",
    "I used Isolation Forest, Logistic Regression, and MultinomialNB to create models for predicting whether or not a text was spam. After hyperparameter tuning I achieved the following results in my selected metrics. I focused on accuracy as well as precision, recall, and f1-score in the minority class due to the imbalance in data. MultinomialNB performed the best.\n",
    "\n",
    "\n",
    "**Isolation Forest:** <br/>\n",
    "Accuracy: 0.84 <br/>\n",
    "This struggled on the minority class.\n",
    "<div style=\"display: inline-block;\">\n",
    "    \n",
    "|| precision | recall | f1-score | support |\n",
    "|---|---|---|---|---|\n",
    "|False|0.89|0.95|0.92|971|\n",
    "|True|0.38|0.19|0.25|144|\n",
    "\n",
    "</div>\n",
    "\n",
    "**Logistic Regression:** <br/>\n",
    "Accuracy: 0.9605\n",
    "<div style=\"display: inline-block;\">\n",
    "    \n",
    "|| precision | recall | f1-score | support |\n",
    "|---|---|---|---|---|\n",
    "|False|0.96|1.00|0.98|971|\n",
    "|True|0.97|0.72|0.82|144|\n",
    "\n",
    "</div>\n",
    "\n",
    "**MultinomialNB:** <br/>\n",
    "Accuracy: 0.9776\n",
    "This method performed the best.\n",
    "<div style=\"display: inline-block;\">\n",
    "    \n",
    "|| precision | recall | f1-score | support |\n",
    "|---|---|---|---|---|\n",
    "|False|0.98|1.00|0.99|971|\n",
    "|True|0.98|0.84|0.91|144|\n",
    "\n",
    "</div>\n",
    "\n"
   ]
  },
  {
   "cell_type": "markdown",
   "id": "1792cf23-e1c8-46f8-a691-982f2e85d8ed",
   "metadata": {},
   "source": []
  },
  {
   "cell_type": "markdown",
   "id": "14adb445-a11e-4429-a08d-0f40d8aa4000",
   "metadata": {},
   "source": [
    "# Discussion"
   ]
  },
  {
   "cell_type": "markdown",
   "id": "ce3613ac-471c-45cc-8aa1-103c912511d8",
   "metadata": {},
   "source": [
    "Throughout this project, for each model, I iterated on them to improve performance where possible. This was simpler to do with the supervised learning methods Logistic Regression and MultinomialNB because the goal with them was more straightforward -- accurately make predictions when given test texts. For the unsupervised methods I tried, I was able to iterate on NMF and LDA to find interesting relationships in the text. \n",
    "\n",
    "I had a goal with Isolation Forest to predict one test data, but I couldn't make it work well for predicting. I also struggled to have KMeans make meaningful clusters -- however, I was able to use and understand word vectors better through this process.\n",
    "\n",
    "Supervised learning was much better suited for making predictions about whether text was spam or not. Unsupervised learning allowed me to understand the texts and the relationships between the words within them.\n",
    "\n",
    "I think I could improve this project by using unsupervised methods to find relationships in the texts and then use those relationships in the supervised learning methods."
   ]
  }
 ],
 "metadata": {
  "kernelspec": {
   "display_name": "Python 3 (ipykernel)",
   "language": "python",
   "name": "python3"
  },
  "language_info": {
   "codemirror_mode": {
    "name": "ipython",
    "version": 3
   },
   "file_extension": ".py",
   "mimetype": "text/x-python",
   "name": "python",
   "nbconvert_exporter": "python",
   "pygments_lexer": "ipython3",
   "version": "3.12.3"
  }
 },
 "nbformat": 4,
 "nbformat_minor": 5
}
